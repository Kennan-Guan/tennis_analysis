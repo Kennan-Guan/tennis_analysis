{
 "cells": [
  {
   "cell_type": "markdown",
   "id": "7197306c",
   "metadata": {},
   "source": [
    "#Analysis of the Top 50 ATP Tennis Players\n",
    "\n",
    "In this workbook, I will be analyzing the statistics webscraped from tennisabstract.com in order to compare the metrics of professional play with tennis methodology I have learned throughout my own tennis career (Playing and Coaching). "
   ]
  },
  {
   "cell_type": "code",
   "execution_count": 1,
   "id": "faebe392",
   "metadata": {
    "_cell_guid": "b1076dfc-b9ad-4769-8c92-a6c4dae69d19",
    "_uuid": "8f2839f25d086af736a60e9eeb907d3b93b6e0e5",
    "execution": {
     "iopub.execute_input": "2022-01-13T03:57:46.492349Z",
     "iopub.status.busy": "2022-01-13T03:57:46.491857Z",
     "iopub.status.idle": "2022-01-13T03:57:47.763213Z",
     "shell.execute_reply": "2022-01-13T03:57:47.762420Z",
     "shell.execute_reply.started": "2022-01-12T22:27:45.231290Z"
    },
    "papermill": {
     "duration": 1.287427,
     "end_time": "2022-01-13T03:57:47.763435",
     "exception": false,
     "start_time": "2022-01-13T03:57:46.476008",
     "status": "completed"
    },
    "tags": []
   },
   "outputs": [],
   "source": [
    "import pandas as pd\n",
    "pd.plotting.register_matplotlib_converters()\n",
    "import matplotlib.pyplot as plt\n",
    "%matplotlib inline\n",
    "import seaborn as sns\n",
    "import requests\n",
    "import io"
   ]
  },
  {
   "cell_type": "markdown",
   "id": "b7123516",
   "metadata": {
    "papermill": {
     "duration": 0.006312,
     "end_time": "2022-01-13T03:57:47.777660",
     "exception": false,
     "start_time": "2022-01-13T03:57:47.771348",
     "status": "completed"
    },
    "tags": []
   },
   "source": [
    "We will now load data from our webscraped csv into a dataframe"
   ]
  },
  {
   "cell_type": "code",
   "execution_count": 49,
   "id": "81edcb4c",
   "metadata": {
    "execution": {
     "iopub.execute_input": "2022-01-13T03:57:47.808309Z",
     "iopub.status.busy": "2022-01-13T03:57:47.804656Z",
     "iopub.status.idle": "2022-01-13T03:57:47.847513Z",
     "shell.execute_reply": "2022-01-13T03:57:47.848059Z",
     "shell.execute_reply.started": "2022-01-12T22:27:46.359289Z"
    },
    "papermill": {
     "duration": 0.061359,
     "end_time": "2022-01-13T03:57:47.848231",
     "exception": false,
     "start_time": "2022-01-13T03:57:47.786872",
     "status": "completed"
    },
    "tags": []
   },
   "outputs": [],
   "source": [
    "serve_datapath = requests.get(\"https://raw.githubusercontent.com/Kennan-Guan/tennis_analysis/main/serve.csv\").content\n",
    "\n",
    "serve_data = pd.read_csv(io.StringIO(serve_datapath.decode('utf-8')))"
   ]
  },
  {
   "cell_type": "markdown",
   "id": "08aba2e4",
   "metadata": {},
   "source": [
    "Now print the dataframe and perform data checks"
   ]
  },
  {
   "cell_type": "code",
   "execution_count": 50,
   "id": "d38a784b",
   "metadata": {},
   "outputs": [
    {
     "data": {
      "text/html": [
       "<div>\n",
       "<style scoped>\n",
       "    .dataframe tbody tr th:only-of-type {\n",
       "        vertical-align: middle;\n",
       "    }\n",
       "\n",
       "    .dataframe tbody tr th {\n",
       "        vertical-align: top;\n",
       "    }\n",
       "\n",
       "    .dataframe thead th {\n",
       "        text-align: right;\n",
       "    }\n",
       "</style>\n",
       "<table border=\"1\" class=\"dataframe\">\n",
       "  <thead>\n",
       "    <tr style=\"text-align: right;\">\n",
       "      <th></th>\n",
       "      <th>Rk</th>\n",
       "      <th>Player</th>\n",
       "      <th>M</th>\n",
       "      <th>M W-L</th>\n",
       "      <th>M W%</th>\n",
       "      <th>SPW</th>\n",
       "      <th>SPW-InP</th>\n",
       "      <th>Aces</th>\n",
       "      <th>Ace%</th>\n",
       "      <th>DFs</th>\n",
       "      <th>DF%</th>\n",
       "      <th>DF/2s</th>\n",
       "      <th>1stIn</th>\n",
       "      <th>1st%</th>\n",
       "      <th>2nd%</th>\n",
       "      <th>2%-InP</th>\n",
       "      <th>Hld%</th>\n",
       "      <th>Pts/SG</th>\n",
       "      <th>PtsL/SG</th>\n",
       "    </tr>\n",
       "  </thead>\n",
       "  <tbody>\n",
       "    <tr>\n",
       "      <th>0</th>\n",
       "      <td>1</td>\n",
       "      <td>Daniil Medvedev [RUS]</td>\n",
       "      <td>65</td>\n",
       "      <td>50-15</td>\n",
       "      <td>76.9%</td>\n",
       "      <td>67.7%</td>\n",
       "      <td>67.5%</td>\n",
       "      <td>507</td>\n",
       "      <td>11.4%</td>\n",
       "      <td>230</td>\n",
       "      <td>5.2%</td>\n",
       "      <td>14.1%</td>\n",
       "      <td>63.4%</td>\n",
       "      <td>76.7%</td>\n",
       "      <td>52.3%</td>\n",
       "      <td>60.9%</td>\n",
       "      <td>86.4%</td>\n",
       "      <td>6.2</td>\n",
       "      <td>2.0</td>\n",
       "    </tr>\n",
       "    <tr>\n",
       "      <th>1</th>\n",
       "      <td>2</td>\n",
       "      <td>Alexander Zverev [GER]</td>\n",
       "      <td>57</td>\n",
       "      <td>44-13</td>\n",
       "      <td>77.2%</td>\n",
       "      <td>68.6%</td>\n",
       "      <td>67.6%</td>\n",
       "      <td>416</td>\n",
       "      <td>12.1%</td>\n",
       "      <td>149</td>\n",
       "      <td>4.3%</td>\n",
       "      <td>14.8%</td>\n",
       "      <td>70.7%</td>\n",
       "      <td>76.3%</td>\n",
       "      <td>49.9%</td>\n",
       "      <td>58.5%</td>\n",
       "      <td>86.8%</td>\n",
       "      <td>6.0</td>\n",
       "      <td>1.9</td>\n",
       "    </tr>\n",
       "    <tr>\n",
       "      <th>2</th>\n",
       "      <td>3</td>\n",
       "      <td>Rafael Nadal [ESP]</td>\n",
       "      <td>39</td>\n",
       "      <td>35-4</td>\n",
       "      <td>89.7%</td>\n",
       "      <td>66.7%</td>\n",
       "      <td>67.8%</td>\n",
       "      <td>159</td>\n",
       "      <td>5.6%</td>\n",
       "      <td>120</td>\n",
       "      <td>4.3%</td>\n",
       "      <td>12.3%</td>\n",
       "      <td>65.5%</td>\n",
       "      <td>72.9%</td>\n",
       "      <td>55.1%</td>\n",
       "      <td>62.8%</td>\n",
       "      <td>84.5%</td>\n",
       "      <td>6.2</td>\n",
       "      <td>2.1</td>\n",
       "    </tr>\n",
       "    <tr>\n",
       "      <th>3</th>\n",
       "      <td>4</td>\n",
       "      <td>Carlos Alcaraz [ESP]</td>\n",
       "      <td>66</td>\n",
       "      <td>54-12</td>\n",
       "      <td>81.8%</td>\n",
       "      <td>66.7%</td>\n",
       "      <td>67.2%</td>\n",
       "      <td>237</td>\n",
       "      <td>5.1%</td>\n",
       "      <td>151</td>\n",
       "      <td>3.2%</td>\n",
       "      <td>9.2%</td>\n",
       "      <td>64.7%</td>\n",
       "      <td>72.4%</td>\n",
       "      <td>56.1%</td>\n",
       "      <td>61.8%</td>\n",
       "      <td>84.8%</td>\n",
       "      <td>6.3</td>\n",
       "      <td>2.1</td>\n",
       "    </tr>\n",
       "    <tr>\n",
       "      <th>4</th>\n",
       "      <td>5</td>\n",
       "      <td>Stefanos Tsitsipas [GRE]</td>\n",
       "      <td>70</td>\n",
       "      <td>50-20</td>\n",
       "      <td>71.4%</td>\n",
       "      <td>67.7%</td>\n",
       "      <td>66.2%</td>\n",
       "      <td>506</td>\n",
       "      <td>9.9%</td>\n",
       "      <td>144</td>\n",
       "      <td>2.8%</td>\n",
       "      <td>7.3%</td>\n",
       "      <td>61.5%</td>\n",
       "      <td>75.7%</td>\n",
       "      <td>54.8%</td>\n",
       "      <td>59.1%</td>\n",
       "      <td>85.5%</td>\n",
       "      <td>6.2</td>\n",
       "      <td>2.0</td>\n",
       "    </tr>\n",
       "  </tbody>\n",
       "</table>\n",
       "</div>"
      ],
      "text/plain": [
       "   Rk                    Player   M  M W-L   M W%    SPW SPW-InP  Aces   Ace%  \\\n",
       "0   1     Daniil Medvedev [RUS]  65  50-15  76.9%  67.7%   67.5%   507  11.4%   \n",
       "1   2    Alexander Zverev [GER]  57  44-13  77.2%  68.6%   67.6%   416  12.1%   \n",
       "2   3        Rafael Nadal [ESP]  39   35-4  89.7%  66.7%   67.8%   159   5.6%   \n",
       "3   4      Carlos Alcaraz [ESP]  66  54-12  81.8%  66.7%   67.2%   237   5.1%   \n",
       "4   5  Stefanos Tsitsipas [GRE]  70  50-20  71.4%  67.7%   66.2%   506   9.9%   \n",
       "\n",
       "   DFs   DF%  DF/2s  1stIn   1st%   2nd% 2%-InP   Hld%  Pts/SG  PtsL/SG  \n",
       "0  230  5.2%  14.1%  63.4%  76.7%  52.3%  60.9%  86.4%     6.2      2.0  \n",
       "1  149  4.3%  14.8%  70.7%  76.3%  49.9%  58.5%  86.8%     6.0      1.9  \n",
       "2  120  4.3%  12.3%  65.5%  72.9%  55.1%  62.8%  84.5%     6.2      2.1  \n",
       "3  151  3.2%   9.2%  64.7%  72.4%  56.1%  61.8%  84.8%     6.3      2.1  \n",
       "4  144  2.8%   7.3%  61.5%  75.7%  54.8%  59.1%  85.5%     6.2      2.0  "
      ]
     },
     "execution_count": 50,
     "metadata": {},
     "output_type": "execute_result"
    }
   ],
   "source": [
    "serve_data.head(5)\n"
   ]
  },
  {
   "cell_type": "code",
   "execution_count": 51,
   "id": "e7ebde6f",
   "metadata": {},
   "outputs": [
    {
     "data": {
      "text/plain": [
       "Rk           int64\n",
       "Player      object\n",
       "M            int64\n",
       "M W-L       object\n",
       "M W%        object\n",
       "SPW         object\n",
       "SPW-InP     object\n",
       "Aces         int64\n",
       "Ace%        object\n",
       "DFs          int64\n",
       "DF%         object\n",
       "DF/2s       object\n",
       "1stIn       object\n",
       "1st%        object\n",
       "2nd%        object\n",
       "2%-InP      object\n",
       "Hld%        object\n",
       "Pts/SG     float64\n",
       "PtsL/SG    float64\n",
       "dtype: object"
      ]
     },
     "execution_count": 51,
     "metadata": {},
     "output_type": "execute_result"
    }
   ],
   "source": [
    "serve_data.dtypes"
   ]
  },
  {
   "cell_type": "markdown",
   "id": "da8badfe",
   "metadata": {},
   "source": [
    "We see above that many of the columns that contain numbers are listed as objects. We need to convert these objects into appropraite float values, and then changing the values from percent to decimal."
   ]
  },
  {
   "cell_type": "code",
   "execution_count": 52,
   "id": "69d0527c",
   "metadata": {},
   "outputs": [
    {
     "data": {
      "text/plain": [
       "Rk           int64\n",
       "Player      object\n",
       "M            int64\n",
       "M W-L       object\n",
       "M W%       float64\n",
       "SPW        float64\n",
       "SPW-InP    float64\n",
       "Aces         int64\n",
       "Ace%       float64\n",
       "DFs          int64\n",
       "DF%        float64\n",
       "DF/2s      float64\n",
       "1stIn      float64\n",
       "1st%       float64\n",
       "2nd%       float64\n",
       "2%-InP     float64\n",
       "Hld%       float64\n",
       "Pts/SG     float64\n",
       "PtsL/SG    float64\n",
       "dtype: object"
      ]
     },
     "execution_count": 52,
     "metadata": {},
     "output_type": "execute_result"
    }
   ],
   "source": [
    "for col in serve_data:\n",
    "    if col not in ('Rk', 'Player', 'M', 'M W-L', 'Aces', 'DFs', 'Pts/SG', 'PtsL/SG'):\n",
    "        serve_data[col] = serve_data[col].astype(str)\n",
    "        serve_data[col] = serve_data[col].str.rstrip('%').astype('float')/100.0\n",
    "serve_data.dtypes\n"
   ]
  },
  {
   "cell_type": "markdown",
   "id": "f1364d9d",
   "metadata": {},
   "source": [
    "We now check to see if the values are now correct"
   ]
  },
  {
   "cell_type": "code",
   "execution_count": 53,
   "id": "af7b8126",
   "metadata": {},
   "outputs": [
    {
     "data": {
      "text/html": [
       "<div>\n",
       "<style scoped>\n",
       "    .dataframe tbody tr th:only-of-type {\n",
       "        vertical-align: middle;\n",
       "    }\n",
       "\n",
       "    .dataframe tbody tr th {\n",
       "        vertical-align: top;\n",
       "    }\n",
       "\n",
       "    .dataframe thead th {\n",
       "        text-align: right;\n",
       "    }\n",
       "</style>\n",
       "<table border=\"1\" class=\"dataframe\">\n",
       "  <thead>\n",
       "    <tr style=\"text-align: right;\">\n",
       "      <th></th>\n",
       "      <th>Rk</th>\n",
       "      <th>Player</th>\n",
       "      <th>M</th>\n",
       "      <th>M W-L</th>\n",
       "      <th>M W%</th>\n",
       "      <th>SPW</th>\n",
       "      <th>SPW-InP</th>\n",
       "      <th>Aces</th>\n",
       "      <th>Ace%</th>\n",
       "      <th>DFs</th>\n",
       "      <th>DF%</th>\n",
       "      <th>DF/2s</th>\n",
       "      <th>1stIn</th>\n",
       "      <th>1st%</th>\n",
       "      <th>2nd%</th>\n",
       "      <th>2%-InP</th>\n",
       "      <th>Hld%</th>\n",
       "      <th>Pts/SG</th>\n",
       "      <th>PtsL/SG</th>\n",
       "    </tr>\n",
       "  </thead>\n",
       "  <tbody>\n",
       "    <tr>\n",
       "      <th>0</th>\n",
       "      <td>1</td>\n",
       "      <td>Daniil Medvedev [RUS]</td>\n",
       "      <td>65</td>\n",
       "      <td>50-15</td>\n",
       "      <td>0.769</td>\n",
       "      <td>0.677</td>\n",
       "      <td>0.675</td>\n",
       "      <td>507</td>\n",
       "      <td>0.114</td>\n",
       "      <td>230</td>\n",
       "      <td>0.052</td>\n",
       "      <td>0.141</td>\n",
       "      <td>0.634</td>\n",
       "      <td>0.767</td>\n",
       "      <td>0.523</td>\n",
       "      <td>0.609</td>\n",
       "      <td>0.864</td>\n",
       "      <td>6.2</td>\n",
       "      <td>2.0</td>\n",
       "    </tr>\n",
       "    <tr>\n",
       "      <th>1</th>\n",
       "      <td>2</td>\n",
       "      <td>Alexander Zverev [GER]</td>\n",
       "      <td>57</td>\n",
       "      <td>44-13</td>\n",
       "      <td>0.772</td>\n",
       "      <td>0.686</td>\n",
       "      <td>0.676</td>\n",
       "      <td>416</td>\n",
       "      <td>0.121</td>\n",
       "      <td>149</td>\n",
       "      <td>0.043</td>\n",
       "      <td>0.148</td>\n",
       "      <td>0.707</td>\n",
       "      <td>0.763</td>\n",
       "      <td>0.499</td>\n",
       "      <td>0.585</td>\n",
       "      <td>0.868</td>\n",
       "      <td>6.0</td>\n",
       "      <td>1.9</td>\n",
       "    </tr>\n",
       "    <tr>\n",
       "      <th>2</th>\n",
       "      <td>3</td>\n",
       "      <td>Rafael Nadal [ESP]</td>\n",
       "      <td>39</td>\n",
       "      <td>35-4</td>\n",
       "      <td>0.897</td>\n",
       "      <td>0.667</td>\n",
       "      <td>0.678</td>\n",
       "      <td>159</td>\n",
       "      <td>0.056</td>\n",
       "      <td>120</td>\n",
       "      <td>0.043</td>\n",
       "      <td>0.123</td>\n",
       "      <td>0.655</td>\n",
       "      <td>0.729</td>\n",
       "      <td>0.551</td>\n",
       "      <td>0.628</td>\n",
       "      <td>0.845</td>\n",
       "      <td>6.2</td>\n",
       "      <td>2.1</td>\n",
       "    </tr>\n",
       "    <tr>\n",
       "      <th>3</th>\n",
       "      <td>4</td>\n",
       "      <td>Carlos Alcaraz [ESP]</td>\n",
       "      <td>66</td>\n",
       "      <td>54-12</td>\n",
       "      <td>0.818</td>\n",
       "      <td>0.667</td>\n",
       "      <td>0.672</td>\n",
       "      <td>237</td>\n",
       "      <td>0.051</td>\n",
       "      <td>151</td>\n",
       "      <td>0.032</td>\n",
       "      <td>0.092</td>\n",
       "      <td>0.647</td>\n",
       "      <td>0.724</td>\n",
       "      <td>0.561</td>\n",
       "      <td>0.618</td>\n",
       "      <td>0.848</td>\n",
       "      <td>6.3</td>\n",
       "      <td>2.1</td>\n",
       "    </tr>\n",
       "    <tr>\n",
       "      <th>4</th>\n",
       "      <td>5</td>\n",
       "      <td>Stefanos Tsitsipas [GRE]</td>\n",
       "      <td>70</td>\n",
       "      <td>50-20</td>\n",
       "      <td>0.714</td>\n",
       "      <td>0.677</td>\n",
       "      <td>0.662</td>\n",
       "      <td>506</td>\n",
       "      <td>0.099</td>\n",
       "      <td>144</td>\n",
       "      <td>0.028</td>\n",
       "      <td>0.073</td>\n",
       "      <td>0.615</td>\n",
       "      <td>0.757</td>\n",
       "      <td>0.548</td>\n",
       "      <td>0.591</td>\n",
       "      <td>0.855</td>\n",
       "      <td>6.2</td>\n",
       "      <td>2.0</td>\n",
       "    </tr>\n",
       "  </tbody>\n",
       "</table>\n",
       "</div>"
      ],
      "text/plain": [
       "   Rk                    Player   M  M W-L   M W%    SPW  SPW-InP  Aces  \\\n",
       "0   1     Daniil Medvedev [RUS]  65  50-15  0.769  0.677    0.675   507   \n",
       "1   2    Alexander Zverev [GER]  57  44-13  0.772  0.686    0.676   416   \n",
       "2   3        Rafael Nadal [ESP]  39   35-4  0.897  0.667    0.678   159   \n",
       "3   4      Carlos Alcaraz [ESP]  66  54-12  0.818  0.667    0.672   237   \n",
       "4   5  Stefanos Tsitsipas [GRE]  70  50-20  0.714  0.677    0.662   506   \n",
       "\n",
       "    Ace%  DFs    DF%  DF/2s  1stIn   1st%   2nd%  2%-InP   Hld%  Pts/SG  \\\n",
       "0  0.114  230  0.052  0.141  0.634  0.767  0.523   0.609  0.864     6.2   \n",
       "1  0.121  149  0.043  0.148  0.707  0.763  0.499   0.585  0.868     6.0   \n",
       "2  0.056  120  0.043  0.123  0.655  0.729  0.551   0.628  0.845     6.2   \n",
       "3  0.051  151  0.032  0.092  0.647  0.724  0.561   0.618  0.848     6.3   \n",
       "4  0.099  144  0.028  0.073  0.615  0.757  0.548   0.591  0.855     6.2   \n",
       "\n",
       "   PtsL/SG  \n",
       "0      2.0  \n",
       "1      1.9  \n",
       "2      2.1  \n",
       "3      2.1  \n",
       "4      2.0  "
      ]
     },
     "execution_count": 53,
     "metadata": {},
     "output_type": "execute_result"
    }
   ],
   "source": [
    "serve_data.head(5)"
   ]
  },
  {
   "cell_type": "markdown",
   "id": "3640fae7",
   "metadata": {
    "papermill": {
     "duration": 0.009081,
     "end_time": "2022-01-13T03:57:47.866892",
     "exception": false,
     "start_time": "2022-01-13T03:57:47.857811",
     "status": "completed"
    },
    "tags": []
   },
   "source": [
    "Using data web scraped from tennisabstract.com, we will look at what attributes and trends define top rated professional tennis players. We will also look at what seperates the best of the best (top 10, Big 3, etc.) from other top rated players and the impact of these traits on their playstyles. \n",
    "\n",
    "I will first break down the imported dataset into categories, so we can compare these groups with all 50 players"
   ]
  },
  {
   "cell_type": "code",
   "execution_count": 54,
   "id": "9aadad0c",
   "metadata": {
    "execution": {
     "iopub.execute_input": "2022-01-13T03:57:47.889256Z",
     "iopub.status.busy": "2022-01-13T03:57:47.888433Z",
     "iopub.status.idle": "2022-01-13T03:57:47.912003Z",
     "shell.execute_reply": "2022-01-13T03:57:47.912600Z",
     "shell.execute_reply.started": "2022-01-12T22:27:46.418346Z"
    },
    "papermill": {
     "duration": 0.036208,
     "end_time": "2022-01-13T03:57:47.912797",
     "exception": false,
     "start_time": "2022-01-13T03:57:47.876589",
     "status": "completed"
    },
    "tags": []
   },
   "outputs": [],
   "source": [
    "top_10 = serve_data[serve_data['Rk'] <= 10]\n",
    "djokovic = serve_data[serve_data.Player == 'Novak Djokovic [SRB]']\n",
    "isner = serve_data[serve_data.Player == 'John Isner [USA]']\n"
   ]
  },
  {
   "cell_type": "markdown",
   "id": "aec85211",
   "metadata": {
    "papermill": {
     "duration": 0.013112,
     "end_time": "2022-01-13T03:57:47.935709",
     "exception": false,
     "start_time": "2022-01-13T03:57:47.922597",
     "status": "completed"
    },
    "tags": []
   },
   "source": [
    "First, let's look at the serve. The serve is what starts each point and therefore gives the server an advantage because they get to choose how to start the point. Naturally, we could argue that a strong serve will yield better results. Let's first look at aces (an unreturnable serve) and hold percentage (games won as the server)."
   ]
  },
  {
   "cell_type": "code",
   "execution_count": 55,
   "id": "1509dfea",
   "metadata": {
    "execution": {
     "iopub.execute_input": "2022-01-13T03:57:47.958343Z",
     "iopub.status.busy": "2022-01-13T03:57:47.957480Z",
     "iopub.status.idle": "2022-01-13T03:57:48.418364Z",
     "shell.execute_reply": "2022-01-13T03:57:48.418882Z",
     "shell.execute_reply.started": "2022-01-12T22:27:46.439688Z"
    },
    "papermill": {
     "duration": 0.474493,
     "end_time": "2022-01-13T03:57:48.419045",
     "exception": false,
     "start_time": "2022-01-13T03:57:47.944552",
     "status": "completed"
    },
    "tags": []
   },
   "outputs": [
    {
     "data": {
      "text/plain": [
       "<matplotlib.legend.Legend at 0x21d0bf42a30>"
      ]
     },
     "execution_count": 55,
     "metadata": {},
     "output_type": "execute_result"
    },
    {
     "data": {
      "image/png": "[encoded data removed]",
      "text/plain": [
       "<Figure size 720x720 with 1 Axes>"
      ]
     },
     "metadata": {},
     "output_type": "display_data"
    }
   ],
   "source": [
    "plt.figure(figsize=(10,10))\n",
    "sns.regplot(data=serve_data, x='Ace%', y='Hld%', label='Top 50')\n",
    "sns.regplot(data=isner,x='Ace%', y='Hld%',label='John Isner')\n",
    "plt.xlabel('Ace Percentage')\n",
    "plt.ylabel('Hold Percentage')\n",
    "plt.title('Service Games Held vs Ace Percentage')\n",
    "sns.set_style('whitegrid')\n",
    "plt.legend()"
   ]
  },
  {
   "cell_type": "markdown",
   "id": "71de8d39",
   "metadata": {
    "papermill": {
     "duration": 0.011099,
     "end_time": "2022-01-13T03:57:48.441363",
     "exception": false,
     "start_time": "2022-01-13T03:57:48.430264",
     "status": "completed"
    },
    "tags": []
   },
   "source": [
    "Here, I used a simple regression which reveals there is indeed a positive relationship between hold percentange and ace percentage. This makes sense because aces will give you points and in turn lead to more games won. I also added an orange dot for John Isner, an american tennis player known for his serve. His height of 6'10'' along with his incredible serve speeds lead him to have among the highest ace and hold percentages. His all-time highest ranking was 8, but has not won a grand slam.\n",
    "\n",
    "Now let us compare ace percentage and matches won."
   ]
  },
  {
   "cell_type": "code",
   "execution_count": 56,
   "id": "dfc58b01",
   "metadata": {
    "execution": {
     "iopub.execute_input": "2022-01-13T03:57:48.500851Z",
     "iopub.status.busy": "2022-01-13T03:57:48.488508Z",
     "iopub.status.idle": "2022-01-13T03:57:49.056461Z",
     "shell.execute_reply": "2022-01-13T03:57:49.055752Z",
     "shell.execute_reply.started": "2022-01-12T22:27:46.941771Z"
    },
    "papermill": {
     "duration": 0.603854,
     "end_time": "2022-01-13T03:57:49.056611",
     "exception": false,
     "start_time": "2022-01-13T03:57:48.452757",
     "status": "completed"
    },
    "tags": []
   },
   "outputs": [
    {
     "data": {
      "text/plain": [
       "<matplotlib.legend.Legend at 0x21d0bd40820>"
      ]
     },
     "execution_count": 56,
     "metadata": {},
     "output_type": "execute_result"
    },
    {
     "data": {
      "image/png": "[encoded data removed]",
      "text/plain": [
       "<Figure size 720x720 with 1 Axes>"
      ]
     },
     "metadata": {},
     "output_type": "display_data"
    }
   ],
   "source": [
    "plt.figure(figsize=(10,10))\n",
    "sns.regplot(data=serve_data, x='Ace%', y='M W%', label='Top 50')\n",
    "sns.regplot(data=isner,x='Ace%', y='M W%', label='John Isner')\n",
    "sns.regplot(data=top_10,x='Ace%', y='M W%', label='Top 10')\n",
    "plt.xlabel('Ace Percentage')\n",
    "plt.ylabel('Win Percentage')\n",
    "plt.title('Matches Won vs Ace Percentage')\n",
    "sns.set_style('whitegrid')\n",
    "plt.legend()"
   ]
  },
  {
   "cell_type": "markdown",
   "id": "4fcd6e96",
   "metadata": {
    "papermill": {
     "duration": 0.012929,
     "end_time": "2022-01-13T03:57:49.082643",
     "exception": false,
     "start_time": "2022-01-13T03:57:49.069714",
     "status": "completed"
    },
    "tags": []
   },
   "source": [
    "We can see that there is barely a relationship between ace percentage and win percentage. I broke down the data into players in the top 50 and players in the top 10. I also highlighted John Isner's ace percentage in orange. We see he holds the highest ace percentage in the top 50 but does not have the highest win percentage. The highest win percentage is held by those in the top 10, yet their ace percentage is below 15%, along with the majority of top 50 players. So, high aces do not mean more wins, but rather more games held. This makes sense with what we see in player results at tournaments. Players with strong serves tend to hold frequently, but do not have any strong backup plans if their opponent manages to return their serves. Aces are useful, but will not guarentee wins. "
   ]
  }
 ],
 "metadata": {
  "kernelspec": {
   "display_name": "Python 3.9.12 ('base')",
   "language": "python",
   "name": "python3"
  },
  "language_info": {
   "codemirror_mode": {
    "name": "ipython",
    "version": 3
   },
   "file_extension": ".py",
   "mimetype": "text/x-python",
   "name": "python",
   "nbconvert_exporter": "python",
   "pygments_lexer": "ipython3",
   "version": "3.9.7"
  },
  "papermill": {
   "default_parameters": {},
   "duration": 13.140428,
   "end_time": "2022-01-13T03:57:49.907851",
   "environment_variables": {},
   "exception": null,
   "input_path": "__notebook__.ipynb",
   "output_path": "__notebook__.ipynb",
   "parameters": {},
   "start_time": "2022-01-13T03:57:36.767423",
   "version": "2.3.3"
  },
  "vscode": {
   "interpreter": {
    "hash": "48b8546280dbd8b9dcc777346724c97d1265a6fb22ecaf2a5828c6f34b0027b1"
   }
  }
 },
 "nbformat": 4,
 "nbformat_minor": 5
}
